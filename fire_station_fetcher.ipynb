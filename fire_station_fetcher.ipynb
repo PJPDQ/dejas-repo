{
 "cells": [
  {
   "cell_type": "code",
   "execution_count": 28,
   "id": "ea054615-3553-4e11-b2be-aa8544d6499b",
   "metadata": {},
   "outputs": [],
   "source": [
    "import urllib.request, json\n",
    "import xmltodict\n",
    "import pandas as pd\n",
    "with urllib.request.urlopen(\"https://www.fire.nsw.gov.au/feeds/stations-georss.php\") as url:\n",
    "    # print(url.read())\n",
    "    o = xmltodict.parse(url.read().decode())\n",
    "    strjsondata = json.dumps(o)\n",
    "    jsondata = json.loads(strjsondata)\n",
    "    df = pd.DataFrame.from_dict(jsondata['rss']['channel']['item'], orient=\"columns\")\n",
    "    df.to_csv(\"fire_station_NSW.csv\")"
   ]
  },
  {
   "cell_type": "code",
   "execution_count": 7,
   "id": "590f6d2f-e6e4-476c-a019-9f219b305c44",
   "metadata": {},
   "outputs": [
    {
     "name": "stdout",
     "output_type": "stream",
     "text": [
      "Collecting xmltodict\n",
      "  Downloading xmltodict-0.13.0-py2.py3-none-any.whl (10.0 kB)\n",
      "Installing collected packages: xmltodict\n",
      "Successfully installed xmltodict-0.13.0\n"
     ]
    },
    {
     "name": "stderr",
     "output_type": "stream",
     "text": [
      "Error processing line 2 of C:\\Users\\n9502271\\Anaconda3\\lib\\site-packages\\basemap_data_hires-1.3.2-py2.7-nspkg.pth:\n",
      "\n",
      "  Traceback (most recent call last):\n",
      "    File \"C:\\Users\\n9502271\\Anaconda3\\lib\\site.py\", line 169, in addpackage\n",
      "      exec(line)\n",
      "    File \"<string>\", line 1, in <module>\n",
      "    File \"<frozen importlib._bootstrap>\", line 562, in module_from_spec\n",
      "  AttributeError: 'NoneType' object has no attribute 'loader'\n",
      "\n",
      "Remainder of file ignored\n"
     ]
    }
   ],
   "source": []
  },
  {
   "cell_type": "code",
   "execution_count": null,
   "id": "e6a05f3b-734e-48b5-ba1c-846492d2e403",
   "metadata": {},
   "outputs": [],
   "source": []
  }
 ],
 "metadata": {
  "kernelspec": {
   "display_name": "Python 3 (ipykernel)",
   "language": "python",
   "name": "python3"
  },
  "language_info": {
   "codemirror_mode": {
    "name": "ipython",
    "version": 3
   },
   "file_extension": ".py",
   "mimetype": "text/x-python",
   "name": "python",
   "nbconvert_exporter": "python",
   "pygments_lexer": "ipython3",
   "version": "3.9.12"
  }
 },
 "nbformat": 4,
 "nbformat_minor": 5
}
